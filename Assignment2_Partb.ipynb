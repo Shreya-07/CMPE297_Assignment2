{
  "nbformat": 4,
  "nbformat_minor": 0,
  "metadata": {
    "colab": {
      "provenance": [],
      "toc_visible": true,
      "authorship_tag": "ABX9TyN3qaIIWG1FcOuO/hwrsNUS",
      "include_colab_link": true
    },
    "kernelspec": {
      "name": "python3",
      "display_name": "Python 3"
    },
    "language_info": {
      "name": "python"
    }
  },
  "cells": [
    {
      "cell_type": "markdown",
      "metadata": {
        "id": "view-in-github",
        "colab_type": "text"
      },
      "source": [
        "<a href=\"https://colab.research.google.com/github/Shreya-07/CMPE297_Assignment2/blob/main/Assignment2_Partb.ipynb\" target=\"_parent\"><img src=\"https://colab.research.google.com/assets/colab-badge.svg\" alt=\"Open In Colab\"/></a>"
      ]
    },
    {
      "cell_type": "markdown",
      "source": [
        "# Node classification using GAT/GCN\n",
        "**By : Shreya Nimbhorkar**"
      ],
      "metadata": {
        "id": "zINWOs19ezx7"
      }
    },
    {
      "cell_type": "markdown",
      "metadata": {
        "id": "WRrZlZ_5kf5c"
      },
      "source": [
        "- a graph: this notebook uses the Cora dataset from The dataset consists of academic publications as the nodes and the citations between them as the links: if publication A cites publication B, then the graph has an edge from A to B. The nodes are classified into one of seven subjects, and our model will learn to predict this subject.\n",
        "- an algorithm: this notebook uses a Graph Convolution Network (GCN). The core of the GCN neural network model is a \"graph convolution\" layer. This layer is similar to a conventional dense layer, augmented by the graph adjacency matrix to use information about a node's connections. \n",
        "\n",
        "Graph Convolutional Networks (GCN): Semi-Supervised Classification with Graph Convolutional Networks. \n"
      ]
    },
    {
      "cell_type": "markdown",
      "metadata": {
        "id": "wSsN7l-Ikf5d"
      },
      "source": [
        "##Install StellarGraph"
      ]
    },
    {
      "cell_type": "code",
      "execution_count": null,
      "metadata": {
        "nbsphinx": "hidden",
        "tags": [
          "CloudRunner"
        ],
        "id": "BPbQdyGvkf5e",
        "colab": {
          "base_uri": "https://localhost:8080/"
        },
        "outputId": "38e4657e-95c7-4284-bb69-a0228bd60a2f"
      },
      "outputs": [
        {
          "output_type": "stream",
          "name": "stdout",
          "text": [
            "\u001b[K     |████████████████████████████████| 435 kB 6.4 MB/s \n",
            "\u001b[K     |████████████████████████████████| 500 kB 41.1 MB/s \n",
            "\u001b[33mWARNING: Retrying (Retry(total=4, connect=None, read=None, redirect=None, status=None)) after connection broken by 'ProtocolError('Connection aborted.', ConnectionResetError(104, 'Connection reset by peer'))': /simple/qtconsole/\u001b[0m\n",
            "\u001b[K     |████████████████████████████████| 120 kB 42.1 MB/s \n",
            "\u001b[K     |████████████████████████████████| 1.6 MB 41.3 MB/s \n",
            "\u001b[K     |████████████████████████████████| 82 kB 448 kB/s \n",
            "\u001b[K     |████████████████████████████████| 41 kB 571 kB/s \n",
            "\u001b[?25h  Building wheel for mplleaflet (setup.py) ... \u001b[?25l\u001b[?25hdone\n"
          ]
        }
      ],
      "source": [
        "# install StellarGraph if running on Google Colab\n",
        "import sys\n",
        "if 'google.colab' in sys.modules:\n",
        "  %pip install -q stellargraph[demos]==1.2.1"
      ]
    },
    {
      "cell_type": "code",
      "execution_count": null,
      "metadata": {
        "nbsphinx": "hidden",
        "tags": [
          "VersionCheck"
        ],
        "id": "DjWZk2ZCkf5e"
      },
      "outputs": [],
      "source": [
        "# verify that we're using the correct version of StellarGraph for this notebook\n",
        "import stellargraph as sg\n",
        "\n",
        "try:\n",
        "    sg.utils.validate_notebook_version(\"1.2.1\")\n",
        "except AttributeError:\n",
        "    raise ValueError(\n",
        "        f\"This notebook requires StellarGraph version 1.2.1, but a different version {sg.__version__} is installed.  Please see <https://github.com/stellargraph/stellargraph/issues/1172>.\"\n",
        "    ) from None"
      ]
    },
    {
      "cell_type": "markdown",
      "source": [
        "##Import Necessary libraries"
      ],
      "metadata": {
        "id": "30MmKnNZffIL"
      }
    },
    {
      "cell_type": "code",
      "execution_count": null,
      "metadata": {
        "id": "NVQeMgxMkf5f"
      },
      "outputs": [],
      "source": [
        "import pandas as pd\n",
        "import os\n",
        "\n",
        "import stellargraph as sg\n",
        "from stellargraph.mapper import FullBatchNodeGenerator\n",
        "from stellargraph.layer import GCN\n",
        "\n",
        "from tensorflow.keras import layers, optimizers, losses, metrics, Model\n",
        "from sklearn import preprocessing, model_selection\n",
        "from IPython.display import display, HTML\n",
        "import matplotlib.pyplot as plt\n",
        "%matplotlib inline"
      ]
    },
    {
      "cell_type": "markdown",
      "metadata": {
        "id": "S_523-WKkf5f"
      },
      "source": [
        "## 1. Data Preparation\n",
        "\n",
        "### Loading the CORA network"
      ]
    },
    {
      "cell_type": "markdown",
      "metadata": {
        "id": "yxJh7T6Lkf5g"
      },
      "source": [
        "We can retrieve a StellarGraph graph object holding this Cora dataset using the Cora loader. It also provides us with the ground-truth node subject classes. This function is implemented using Pandas\n"
      ]
    },
    {
      "cell_type": "code",
      "execution_count": null,
      "metadata": {
        "tags": [
          "DataLoading"
        ],
        "id": "qTtmkenAkf5g",
        "outputId": "df150235-b20b-4ae2-db16-9e2e36e24d55",
        "colab": {
          "base_uri": "https://localhost:8080/",
          "height": 69
        }
      },
      "outputs": [
        {
          "output_type": "display_data",
          "data": {
            "text/plain": [
              "<IPython.core.display.HTML object>"
            ],
            "text/html": [
              "The Cora dataset consists of 2708 scientific publications classified into one of seven classes. The citation network consists of 5429 links. Each publication in the dataset is described by a 0/1-valued word vector indicating the absence/presence of the corresponding word from the dictionary. The dictionary consists of 1433 unique words."
            ]
          },
          "metadata": {}
        }
      ],
      "source": [
        "dataset = sg.datasets.Cora()\n",
        "display(HTML(dataset.description))\n",
        "G, node_subjects = dataset.load()"
      ]
    },
    {
      "cell_type": "markdown",
      "metadata": {
        "id": "kEGw_E3Vkf5h"
      },
      "source": [
        "The `info` method can help us verify that our loaded graph matches the description:"
      ]
    },
    {
      "cell_type": "code",
      "execution_count": null,
      "metadata": {
        "id": "wfBwnwZVkf5h",
        "outputId": "c0091b39-6276-47e0-d0e0-a9f5429291ea",
        "colab": {
          "base_uri": "https://localhost:8080/"
        }
      },
      "outputs": [
        {
          "output_type": "stream",
          "name": "stdout",
          "text": [
            "StellarGraph: Undirected multigraph\n",
            " Nodes: 2708, Edges: 5429\n",
            "\n",
            " Node types:\n",
            "  paper: [2708]\n",
            "    Features: float32 vector, length 1433\n",
            "    Edge types: paper-cites->paper\n",
            "\n",
            " Edge types:\n",
            "    paper-cites->paper: [5429]\n",
            "        Weights: all 1 (default)\n",
            "        Features: none\n"
          ]
        }
      ],
      "source": [
        "print(G.info())"
      ]
    },
    {
      "cell_type": "markdown",
      "metadata": {
        "id": "-VFkaxDZkf5h"
      },
      "source": [
        "We aim to train a graph-ML model that will predict the \"subject\" attribute on the nodes. These subjects are one of 7 categories, with some categories more common than others:"
      ]
    },
    {
      "cell_type": "code",
      "execution_count": null,
      "metadata": {
        "id": "fOTbK7MWkf5h",
        "outputId": "7954fb3d-e1e5-46eb-c896-4442c45820ef",
        "colab": {
          "base_uri": "https://localhost:8080/",
          "height": 269
        }
      },
      "outputs": [
        {
          "output_type": "execute_result",
          "data": {
            "text/plain": [
              "                        subject\n",
              "Neural_Networks             818\n",
              "Probabilistic_Methods       426\n",
              "Genetic_Algorithms          418\n",
              "Theory                      351\n",
              "Case_Based                  298\n",
              "Reinforcement_Learning      217\n",
              "Rule_Learning               180"
            ],
            "text/html": [
              "\n",
              "  <div id=\"df-42365d47-aabf-4e55-b216-7de6a4680bde\">\n",
              "    <div class=\"colab-df-container\">\n",
              "      <div>\n",
              "<style scoped>\n",
              "    .dataframe tbody tr th:only-of-type {\n",
              "        vertical-align: middle;\n",
              "    }\n",
              "\n",
              "    .dataframe tbody tr th {\n",
              "        vertical-align: top;\n",
              "    }\n",
              "\n",
              "    .dataframe thead th {\n",
              "        text-align: right;\n",
              "    }\n",
              "</style>\n",
              "<table border=\"1\" class=\"dataframe\">\n",
              "  <thead>\n",
              "    <tr style=\"text-align: right;\">\n",
              "      <th></th>\n",
              "      <th>subject</th>\n",
              "    </tr>\n",
              "  </thead>\n",
              "  <tbody>\n",
              "    <tr>\n",
              "      <th>Neural_Networks</th>\n",
              "      <td>818</td>\n",
              "    </tr>\n",
              "    <tr>\n",
              "      <th>Probabilistic_Methods</th>\n",
              "      <td>426</td>\n",
              "    </tr>\n",
              "    <tr>\n",
              "      <th>Genetic_Algorithms</th>\n",
              "      <td>418</td>\n",
              "    </tr>\n",
              "    <tr>\n",
              "      <th>Theory</th>\n",
              "      <td>351</td>\n",
              "    </tr>\n",
              "    <tr>\n",
              "      <th>Case_Based</th>\n",
              "      <td>298</td>\n",
              "    </tr>\n",
              "    <tr>\n",
              "      <th>Reinforcement_Learning</th>\n",
              "      <td>217</td>\n",
              "    </tr>\n",
              "    <tr>\n",
              "      <th>Rule_Learning</th>\n",
              "      <td>180</td>\n",
              "    </tr>\n",
              "  </tbody>\n",
              "</table>\n",
              "</div>\n",
              "      <button class=\"colab-df-convert\" onclick=\"convertToInteractive('df-42365d47-aabf-4e55-b216-7de6a4680bde')\"\n",
              "              title=\"Convert this dataframe to an interactive table.\"\n",
              "              style=\"display:none;\">\n",
              "        \n",
              "  <svg xmlns=\"http://www.w3.org/2000/svg\" height=\"24px\"viewBox=\"0 0 24 24\"\n",
              "       width=\"24px\">\n",
              "    <path d=\"M0 0h24v24H0V0z\" fill=\"none\"/>\n",
              "    <path d=\"M18.56 5.44l.94 2.06.94-2.06 2.06-.94-2.06-.94-.94-2.06-.94 2.06-2.06.94zm-11 1L8.5 8.5l.94-2.06 2.06-.94-2.06-.94L8.5 2.5l-.94 2.06-2.06.94zm10 10l.94 2.06.94-2.06 2.06-.94-2.06-.94-.94-2.06-.94 2.06-2.06.94z\"/><path d=\"M17.41 7.96l-1.37-1.37c-.4-.4-.92-.59-1.43-.59-.52 0-1.04.2-1.43.59L10.3 9.45l-7.72 7.72c-.78.78-.78 2.05 0 2.83L4 21.41c.39.39.9.59 1.41.59.51 0 1.02-.2 1.41-.59l7.78-7.78 2.81-2.81c.8-.78.8-2.07 0-2.86zM5.41 20L4 18.59l7.72-7.72 1.47 1.35L5.41 20z\"/>\n",
              "  </svg>\n",
              "      </button>\n",
              "      \n",
              "  <style>\n",
              "    .colab-df-container {\n",
              "      display:flex;\n",
              "      flex-wrap:wrap;\n",
              "      gap: 12px;\n",
              "    }\n",
              "\n",
              "    .colab-df-convert {\n",
              "      background-color: #E8F0FE;\n",
              "      border: none;\n",
              "      border-radius: 50%;\n",
              "      cursor: pointer;\n",
              "      display: none;\n",
              "      fill: #1967D2;\n",
              "      height: 32px;\n",
              "      padding: 0 0 0 0;\n",
              "      width: 32px;\n",
              "    }\n",
              "\n",
              "    .colab-df-convert:hover {\n",
              "      background-color: #E2EBFA;\n",
              "      box-shadow: 0px 1px 2px rgba(60, 64, 67, 0.3), 0px 1px 3px 1px rgba(60, 64, 67, 0.15);\n",
              "      fill: #174EA6;\n",
              "    }\n",
              "\n",
              "    [theme=dark] .colab-df-convert {\n",
              "      background-color: #3B4455;\n",
              "      fill: #D2E3FC;\n",
              "    }\n",
              "\n",
              "    [theme=dark] .colab-df-convert:hover {\n",
              "      background-color: #434B5C;\n",
              "      box-shadow: 0px 1px 3px 1px rgba(0, 0, 0, 0.15);\n",
              "      filter: drop-shadow(0px 1px 2px rgba(0, 0, 0, 0.3));\n",
              "      fill: #FFFFFF;\n",
              "    }\n",
              "  </style>\n",
              "\n",
              "      <script>\n",
              "        const buttonEl =\n",
              "          document.querySelector('#df-42365d47-aabf-4e55-b216-7de6a4680bde button.colab-df-convert');\n",
              "        buttonEl.style.display =\n",
              "          google.colab.kernel.accessAllowed ? 'block' : 'none';\n",
              "\n",
              "        async function convertToInteractive(key) {\n",
              "          const element = document.querySelector('#df-42365d47-aabf-4e55-b216-7de6a4680bde');\n",
              "          const dataTable =\n",
              "            await google.colab.kernel.invokeFunction('convertToInteractive',\n",
              "                                                     [key], {});\n",
              "          if (!dataTable) return;\n",
              "\n",
              "          const docLinkHtml = 'Like what you see? Visit the ' +\n",
              "            '<a target=\"_blank\" href=https://colab.research.google.com/notebooks/data_table.ipynb>data table notebook</a>'\n",
              "            + ' to learn more about interactive tables.';\n",
              "          element.innerHTML = '';\n",
              "          dataTable['output_type'] = 'display_data';\n",
              "          await google.colab.output.renderOutput(dataTable, element);\n",
              "          const docLink = document.createElement('div');\n",
              "          docLink.innerHTML = docLinkHtml;\n",
              "          element.appendChild(docLink);\n",
              "        }\n",
              "      </script>\n",
              "    </div>\n",
              "  </div>\n",
              "  "
            ]
          },
          "metadata": {},
          "execution_count": 6
        }
      ],
      "source": [
        "node_subjects.value_counts().to_frame()"
      ]
    },
    {
      "cell_type": "markdown",
      "metadata": {
        "id": "J42qr9evkf5h"
      },
      "source": [
        "### Splitting the data"
      ]
    },
    {
      "cell_type": "markdown",
      "metadata": {
        "id": "zlH09985kf5h"
      },
      "source": [
        "For machine learning we want to take a subset of the nodes for training, and use the rest for validation and testing. We'll use scikit-learn's train_test_split functions to do this.\n",
        "\n",
        "Here we're taking 140 node labels for training, 500 for validation, and the rest for testing."
      ]
    },
    {
      "cell_type": "code",
      "execution_count": null,
      "metadata": {
        "id": "WqihgCJDkf5i"
      },
      "outputs": [],
      "source": [
        "train_subjects, test_subjects = model_selection.train_test_split(\n",
        "    node_subjects, train_size=140, test_size=None, stratify=node_subjects\n",
        ")\n",
        "val_subjects, test_subjects = model_selection.train_test_split(\n",
        "    test_subjects, train_size=500, test_size=None, stratify=test_subjects\n",
        ")"
      ]
    },
    {
      "cell_type": "markdown",
      "metadata": {
        "id": "7NbqYEjykf5i"
      },
      "source": [
        "Note using stratified sampling gives the following counts:"
      ]
    },
    {
      "cell_type": "code",
      "execution_count": null,
      "metadata": {
        "id": "BfVFPxYskf5i",
        "outputId": "ac82b35d-71f0-47e8-e056-5336130db0d2",
        "colab": {
          "base_uri": "https://localhost:8080/",
          "height": 269
        }
      },
      "outputs": [
        {
          "output_type": "execute_result",
          "data": {
            "text/plain": [
              "                        subject\n",
              "Neural_Networks              42\n",
              "Probabilistic_Methods        22\n",
              "Genetic_Algorithms           22\n",
              "Theory                       18\n",
              "Case_Based                   16\n",
              "Reinforcement_Learning       11\n",
              "Rule_Learning                 9"
            ],
            "text/html": [
              "\n",
              "  <div id=\"df-03b6ce61-bdf9-47fb-accc-27ae30d106f9\">\n",
              "    <div class=\"colab-df-container\">\n",
              "      <div>\n",
              "<style scoped>\n",
              "    .dataframe tbody tr th:only-of-type {\n",
              "        vertical-align: middle;\n",
              "    }\n",
              "\n",
              "    .dataframe tbody tr th {\n",
              "        vertical-align: top;\n",
              "    }\n",
              "\n",
              "    .dataframe thead th {\n",
              "        text-align: right;\n",
              "    }\n",
              "</style>\n",
              "<table border=\"1\" class=\"dataframe\">\n",
              "  <thead>\n",
              "    <tr style=\"text-align: right;\">\n",
              "      <th></th>\n",
              "      <th>subject</th>\n",
              "    </tr>\n",
              "  </thead>\n",
              "  <tbody>\n",
              "    <tr>\n",
              "      <th>Neural_Networks</th>\n",
              "      <td>42</td>\n",
              "    </tr>\n",
              "    <tr>\n",
              "      <th>Probabilistic_Methods</th>\n",
              "      <td>22</td>\n",
              "    </tr>\n",
              "    <tr>\n",
              "      <th>Genetic_Algorithms</th>\n",
              "      <td>22</td>\n",
              "    </tr>\n",
              "    <tr>\n",
              "      <th>Theory</th>\n",
              "      <td>18</td>\n",
              "    </tr>\n",
              "    <tr>\n",
              "      <th>Case_Based</th>\n",
              "      <td>16</td>\n",
              "    </tr>\n",
              "    <tr>\n",
              "      <th>Reinforcement_Learning</th>\n",
              "      <td>11</td>\n",
              "    </tr>\n",
              "    <tr>\n",
              "      <th>Rule_Learning</th>\n",
              "      <td>9</td>\n",
              "    </tr>\n",
              "  </tbody>\n",
              "</table>\n",
              "</div>\n",
              "      <button class=\"colab-df-convert\" onclick=\"convertToInteractive('df-03b6ce61-bdf9-47fb-accc-27ae30d106f9')\"\n",
              "              title=\"Convert this dataframe to an interactive table.\"\n",
              "              style=\"display:none;\">\n",
              "        \n",
              "  <svg xmlns=\"http://www.w3.org/2000/svg\" height=\"24px\"viewBox=\"0 0 24 24\"\n",
              "       width=\"24px\">\n",
              "    <path d=\"M0 0h24v24H0V0z\" fill=\"none\"/>\n",
              "    <path d=\"M18.56 5.44l.94 2.06.94-2.06 2.06-.94-2.06-.94-.94-2.06-.94 2.06-2.06.94zm-11 1L8.5 8.5l.94-2.06 2.06-.94-2.06-.94L8.5 2.5l-.94 2.06-2.06.94zm10 10l.94 2.06.94-2.06 2.06-.94-2.06-.94-.94-2.06-.94 2.06-2.06.94z\"/><path d=\"M17.41 7.96l-1.37-1.37c-.4-.4-.92-.59-1.43-.59-.52 0-1.04.2-1.43.59L10.3 9.45l-7.72 7.72c-.78.78-.78 2.05 0 2.83L4 21.41c.39.39.9.59 1.41.59.51 0 1.02-.2 1.41-.59l7.78-7.78 2.81-2.81c.8-.78.8-2.07 0-2.86zM5.41 20L4 18.59l7.72-7.72 1.47 1.35L5.41 20z\"/>\n",
              "  </svg>\n",
              "      </button>\n",
              "      \n",
              "  <style>\n",
              "    .colab-df-container {\n",
              "      display:flex;\n",
              "      flex-wrap:wrap;\n",
              "      gap: 12px;\n",
              "    }\n",
              "\n",
              "    .colab-df-convert {\n",
              "      background-color: #E8F0FE;\n",
              "      border: none;\n",
              "      border-radius: 50%;\n",
              "      cursor: pointer;\n",
              "      display: none;\n",
              "      fill: #1967D2;\n",
              "      height: 32px;\n",
              "      padding: 0 0 0 0;\n",
              "      width: 32px;\n",
              "    }\n",
              "\n",
              "    .colab-df-convert:hover {\n",
              "      background-color: #E2EBFA;\n",
              "      box-shadow: 0px 1px 2px rgba(60, 64, 67, 0.3), 0px 1px 3px 1px rgba(60, 64, 67, 0.15);\n",
              "      fill: #174EA6;\n",
              "    }\n",
              "\n",
              "    [theme=dark] .colab-df-convert {\n",
              "      background-color: #3B4455;\n",
              "      fill: #D2E3FC;\n",
              "    }\n",
              "\n",
              "    [theme=dark] .colab-df-convert:hover {\n",
              "      background-color: #434B5C;\n",
              "      box-shadow: 0px 1px 3px 1px rgba(0, 0, 0, 0.15);\n",
              "      filter: drop-shadow(0px 1px 2px rgba(0, 0, 0, 0.3));\n",
              "      fill: #FFFFFF;\n",
              "    }\n",
              "  </style>\n",
              "\n",
              "      <script>\n",
              "        const buttonEl =\n",
              "          document.querySelector('#df-03b6ce61-bdf9-47fb-accc-27ae30d106f9 button.colab-df-convert');\n",
              "        buttonEl.style.display =\n",
              "          google.colab.kernel.accessAllowed ? 'block' : 'none';\n",
              "\n",
              "        async function convertToInteractive(key) {\n",
              "          const element = document.querySelector('#df-03b6ce61-bdf9-47fb-accc-27ae30d106f9');\n",
              "          const dataTable =\n",
              "            await google.colab.kernel.invokeFunction('convertToInteractive',\n",
              "                                                     [key], {});\n",
              "          if (!dataTable) return;\n",
              "\n",
              "          const docLinkHtml = 'Like what you see? Visit the ' +\n",
              "            '<a target=\"_blank\" href=https://colab.research.google.com/notebooks/data_table.ipynb>data table notebook</a>'\n",
              "            + ' to learn more about interactive tables.';\n",
              "          element.innerHTML = '';\n",
              "          dataTable['output_type'] = 'display_data';\n",
              "          await google.colab.output.renderOutput(dataTable, element);\n",
              "          const docLink = document.createElement('div');\n",
              "          docLink.innerHTML = docLinkHtml;\n",
              "          element.appendChild(docLink);\n",
              "        }\n",
              "      </script>\n",
              "    </div>\n",
              "  </div>\n",
              "  "
            ]
          },
          "metadata": {},
          "execution_count": 8
        }
      ],
      "source": [
        "train_subjects.value_counts().to_frame()"
      ]
    },
    {
      "cell_type": "markdown",
      "metadata": {
        "id": "6hlBsNSakf5i"
      },
      "source": [
        "The training set has class imbalance that might need to be compensated, e.g., via using a weighted cross-entropy loss in model training, with class weights inversely proportional to class support. However, we will ignore the class imbalance in this example, for simplicity."
      ]
    },
    {
      "cell_type": "markdown",
      "metadata": {
        "id": "T5haQtcIkf5i"
      },
      "source": [
        "### Converting to numeric arrays"
      ]
    },
    {
      "cell_type": "code",
      "execution_count": null,
      "metadata": {
        "id": "yQcZo7jrkf5i"
      },
      "outputs": [],
      "source": [
        "target_encoding = preprocessing.LabelBinarizer()\n",
        "\n",
        "train_targets = target_encoding.fit_transform(train_subjects)\n",
        "val_targets = target_encoding.transform(val_subjects)\n",
        "test_targets = target_encoding.transform(test_subjects)"
      ]
    },
    {
      "cell_type": "markdown",
      "metadata": {
        "id": "1fEIixjRkf5j"
      },
      "source": [
        "## 2. Creating the GCN layers\n",
        "\n",
        "A machine learning model in StellarGraph consists of a pair of items:\n",
        "\n",
        "- the layers themselves, such as graph convolution, dropout\n",
        "- a data generator to convert the core graph structure and node features into a format that can be fed into the Keras model for training or prediction\n",
        "\n",
        "GCN is a full-batch model and we're doing node classification here, which means the `FullBatchNodeGenerator` class is the appropriate generator for our task. StellarGraph has many generators in order to support all its many models and tasks\n",
        "\n",
        "Specifying the `method='gcn'` argument to the `FullBatchNodeGenerator` means it will yield data appropriate for the GCN algorithm specifically, by using the normalized graph Laplacian matrix to capture the graph structure."
      ]
    },
    {
      "cell_type": "code",
      "execution_count": null,
      "metadata": {
        "id": "NVYfoc5Hkf5j",
        "outputId": "63704cb3-4972-44a2-f5f6-701d16c0df28",
        "colab": {
          "base_uri": "https://localhost:8080/"
        }
      },
      "outputs": [
        {
          "output_type": "stream",
          "name": "stdout",
          "text": [
            "Using GCN (local pooling) filters...\n"
          ]
        }
      ],
      "source": [
        "generator = FullBatchNodeGenerator(G, method=\"gcn\")"
      ]
    },
    {
      "cell_type": "code",
      "execution_count": null,
      "metadata": {
        "id": "AYeGggJAkf5j"
      },
      "outputs": [],
      "source": [
        "train_gen = generator.flow(train_subjects.index, train_targets)"
      ]
    },
    {
      "cell_type": "code",
      "execution_count": null,
      "metadata": {
        "id": "0BWQZU6Xkf5j"
      },
      "outputs": [],
      "source": [
        "gcn = GCN(\n",
        "    layer_sizes=[16, 16], activations=[\"relu\", \"relu\"], generator=generator, dropout=0.5\n",
        ")"
      ]
    },
    {
      "cell_type": "markdown",
      "metadata": {
        "id": "uFdzR9ovkf5j"
      },
      "source": [
        "To create a Keras model we now expose the input and output tensors of the GCN model for node prediction, via the `GCN.in_out_tensors` method:"
      ]
    },
    {
      "cell_type": "code",
      "execution_count": null,
      "metadata": {
        "id": "oAZVP2UZkf5j",
        "outputId": "41ddc248-9487-4263-90e7-827ef69a621c",
        "colab": {
          "base_uri": "https://localhost:8080/"
        }
      },
      "outputs": [
        {
          "output_type": "execute_result",
          "data": {
            "text/plain": [
              "<KerasTensor: shape=(1, None, 16) dtype=float32 (created by layer 'gather_indices')>"
            ]
          },
          "metadata": {},
          "execution_count": 13
        }
      ],
      "source": [
        "x_inp, x_out = gcn.in_out_tensors()\n",
        "\n",
        "x_out"
      ]
    },
    {
      "cell_type": "code",
      "execution_count": null,
      "metadata": {
        "id": "jIVqXAu5kf5j"
      },
      "outputs": [],
      "source": [
        "predictions = layers.Dense(units=train_targets.shape[1], activation=\"softmax\")(x_out)"
      ]
    },
    {
      "cell_type": "markdown",
      "metadata": {
        "id": "8n9mFQw6kf5j"
      },
      "source": [
        "## 3. Training and evaluating\n",
        "\n",
        "### Training the model"
      ]
    },
    {
      "cell_type": "code",
      "execution_count": null,
      "metadata": {
        "id": "LjshJYCFkf5k",
        "colab": {
          "base_uri": "https://localhost:8080/"
        },
        "outputId": "8fb97def-79dd-4590-98ee-f85f36571e0b"
      },
      "outputs": [
        {
          "output_type": "stream",
          "name": "stderr",
          "text": [
            "/usr/local/lib/python3.7/dist-packages/keras/optimizers/optimizer_v2/adam.py:110: UserWarning: The `lr` argument is deprecated, use `learning_rate` instead.\n",
            "  super(Adam, self).__init__(name, **kwargs)\n"
          ]
        }
      ],
      "source": [
        "model = Model(inputs=x_inp, outputs=predictions)\n",
        "model.compile(\n",
        "    optimizer=optimizers.Adam(lr=0.01),\n",
        "    loss=losses.categorical_crossentropy,\n",
        "    metrics=[\"acc\"],\n",
        ")"
      ]
    },
    {
      "cell_type": "markdown",
      "metadata": {
        "id": "OXQ2c0d8kf5k"
      },
      "source": [
        "As we're training the model, we'll want to also keep track of its generalisation performance on the validation set, which means creating another data generator, using our FullBatchNodeGenerator we created above."
      ]
    },
    {
      "cell_type": "code",
      "execution_count": null,
      "metadata": {
        "id": "4cLyUhMTkf5k"
      },
      "outputs": [],
      "source": [
        "val_gen = generator.flow(val_subjects.index, val_targets)"
      ]
    },
    {
      "cell_type": "markdown",
      "metadata": {
        "id": "xYjmBOzNkf5k"
      },
      "source": [
        "We can directly use the `EarlyStopping` functionality ([docs](https://www.tensorflow.org/api_docs/python/tf/keras/callbacks/EarlyStopping)) offered by Keras to stop training if the validation accuracy stops improving."
      ]
    },
    {
      "cell_type": "code",
      "execution_count": null,
      "metadata": {
        "id": "1Y3dZdxVkf5k"
      },
      "outputs": [],
      "source": [
        "from tensorflow.keras.callbacks import EarlyStopping\n",
        "\n",
        "es_callback = EarlyStopping(monitor=\"val_acc\", patience=50, restore_best_weights=True)"
      ]
    },
    {
      "cell_type": "markdown",
      "metadata": {
        "id": "K3vyO8DVkf5k"
      },
      "source": [
        "We've now set up our model layers, our training data, our validation data and even our training callbacks, so we can now train the model using the model's fit method "
      ]
    },
    {
      "cell_type": "code",
      "execution_count": null,
      "metadata": {
        "id": "MGMLQ9CFkf5k",
        "outputId": "5ce065a9-e644-4bf2-ea99-478f94287d46",
        "colab": {
          "base_uri": "https://localhost:8080/"
        }
      },
      "outputs": [
        {
          "output_type": "stream",
          "name": "stdout",
          "text": [
            "Epoch 1/200\n",
            "1/1 - 2s - loss: 1.9398 - acc: 0.1786 - val_loss: 1.8967 - val_acc: 0.3680 - 2s/epoch - 2s/step\n",
            "Epoch 2/200\n",
            "1/1 - 0s - loss: 1.8836 - acc: 0.3643 - val_loss: 1.8403 - val_acc: 0.4300 - 281ms/epoch - 281ms/step\n",
            "Epoch 3/200\n",
            "1/1 - 0s - loss: 1.8210 - acc: 0.4143 - val_loss: 1.7743 - val_acc: 0.4620 - 295ms/epoch - 295ms/step\n",
            "Epoch 4/200\n",
            "1/1 - 0s - loss: 1.7316 - acc: 0.5000 - val_loss: 1.7029 - val_acc: 0.4760 - 327ms/epoch - 327ms/step\n",
            "Epoch 5/200\n",
            "1/1 - 0s - loss: 1.6359 - acc: 0.4714 - val_loss: 1.6268 - val_acc: 0.4700 - 270ms/epoch - 270ms/step\n",
            "Epoch 6/200\n",
            "1/1 - 0s - loss: 1.5192 - acc: 0.5214 - val_loss: 1.5482 - val_acc: 0.4560 - 282ms/epoch - 282ms/step\n",
            "Epoch 7/200\n",
            "1/1 - 0s - loss: 1.4612 - acc: 0.4857 - val_loss: 1.4710 - val_acc: 0.4600 - 325ms/epoch - 325ms/step\n",
            "Epoch 8/200\n",
            "1/1 - 0s - loss: 1.3533 - acc: 0.5714 - val_loss: 1.3925 - val_acc: 0.4780 - 262ms/epoch - 262ms/step\n",
            "Epoch 9/200\n",
            "1/1 - 0s - loss: 1.2275 - acc: 0.5571 - val_loss: 1.3131 - val_acc: 0.5140 - 320ms/epoch - 320ms/step\n",
            "Epoch 10/200\n",
            "1/1 - 0s - loss: 1.1293 - acc: 0.6857 - val_loss: 1.2317 - val_acc: 0.5800 - 341ms/epoch - 341ms/step\n",
            "Epoch 11/200\n",
            "1/1 - 0s - loss: 1.0514 - acc: 0.6429 - val_loss: 1.1518 - val_acc: 0.6540 - 292ms/epoch - 292ms/step\n",
            "Epoch 12/200\n",
            "1/1 - 0s - loss: 0.9170 - acc: 0.7500 - val_loss: 1.0748 - val_acc: 0.7200 - 283ms/epoch - 283ms/step\n",
            "Epoch 13/200\n",
            "1/1 - 0s - loss: 0.8111 - acc: 0.8286 - val_loss: 1.0025 - val_acc: 0.7740 - 276ms/epoch - 276ms/step\n",
            "Epoch 14/200\n",
            "1/1 - 0s - loss: 0.7649 - acc: 0.8500 - val_loss: 0.9372 - val_acc: 0.7900 - 326ms/epoch - 326ms/step\n",
            "Epoch 15/200\n",
            "1/1 - 0s - loss: 0.6929 - acc: 0.8286 - val_loss: 0.8797 - val_acc: 0.8060 - 341ms/epoch - 341ms/step\n",
            "Epoch 16/200\n",
            "1/1 - 0s - loss: 0.6123 - acc: 0.8714 - val_loss: 0.8286 - val_acc: 0.8220 - 305ms/epoch - 305ms/step\n",
            "Epoch 17/200\n",
            "1/1 - 0s - loss: 0.5165 - acc: 0.9143 - val_loss: 0.7799 - val_acc: 0.8140 - 377ms/epoch - 377ms/step\n",
            "Epoch 18/200\n",
            "1/1 - 0s - loss: 0.5053 - acc: 0.9000 - val_loss: 0.7344 - val_acc: 0.8280 - 300ms/epoch - 300ms/step\n",
            "Epoch 19/200\n",
            "1/1 - 0s - loss: 0.4215 - acc: 0.9000 - val_loss: 0.6921 - val_acc: 0.8300 - 477ms/epoch - 477ms/step\n",
            "Epoch 20/200\n",
            "1/1 - 0s - loss: 0.3456 - acc: 0.9500 - val_loss: 0.6607 - val_acc: 0.8320 - 248ms/epoch - 248ms/step\n",
            "Epoch 21/200\n",
            "1/1 - 0s - loss: 0.2709 - acc: 0.9429 - val_loss: 0.6388 - val_acc: 0.8260 - 275ms/epoch - 275ms/step\n",
            "Epoch 22/200\n",
            "1/1 - 0s - loss: 0.2884 - acc: 0.9357 - val_loss: 0.6261 - val_acc: 0.8240 - 290ms/epoch - 290ms/step\n",
            "Epoch 23/200\n",
            "1/1 - 0s - loss: 0.2484 - acc: 0.9357 - val_loss: 0.6219 - val_acc: 0.8260 - 332ms/epoch - 332ms/step\n",
            "Epoch 24/200\n",
            "1/1 - 0s - loss: 0.2899 - acc: 0.9143 - val_loss: 0.6123 - val_acc: 0.8220 - 278ms/epoch - 278ms/step\n",
            "Epoch 25/200\n",
            "1/1 - 0s - loss: 0.1977 - acc: 0.9500 - val_loss: 0.6076 - val_acc: 0.8280 - 254ms/epoch - 254ms/step\n",
            "Epoch 26/200\n",
            "1/1 - 0s - loss: 0.2240 - acc: 0.9286 - val_loss: 0.6020 - val_acc: 0.8320 - 344ms/epoch - 344ms/step\n",
            "Epoch 27/200\n",
            "1/1 - 0s - loss: 0.1573 - acc: 0.9714 - val_loss: 0.5988 - val_acc: 0.8240 - 251ms/epoch - 251ms/step\n",
            "Epoch 28/200\n",
            "1/1 - 0s - loss: 0.1401 - acc: 0.9714 - val_loss: 0.5959 - val_acc: 0.8240 - 393ms/epoch - 393ms/step\n",
            "Epoch 29/200\n",
            "1/1 - 0s - loss: 0.1715 - acc: 0.9500 - val_loss: 0.5909 - val_acc: 0.8360 - 273ms/epoch - 273ms/step\n",
            "Epoch 30/200\n",
            "1/1 - 0s - loss: 0.1271 - acc: 0.9714 - val_loss: 0.5932 - val_acc: 0.8400 - 257ms/epoch - 257ms/step\n",
            "Epoch 31/200\n",
            "1/1 - 0s - loss: 0.1485 - acc: 0.9571 - val_loss: 0.5971 - val_acc: 0.8420 - 282ms/epoch - 282ms/step\n",
            "Epoch 32/200\n",
            "1/1 - 0s - loss: 0.1193 - acc: 0.9786 - val_loss: 0.6080 - val_acc: 0.8460 - 332ms/epoch - 332ms/step\n",
            "Epoch 33/200\n",
            "1/1 - 0s - loss: 0.1271 - acc: 0.9714 - val_loss: 0.6157 - val_acc: 0.8460 - 321ms/epoch - 321ms/step\n",
            "Epoch 34/200\n",
            "1/1 - 0s - loss: 0.1323 - acc: 0.9786 - val_loss: 0.6244 - val_acc: 0.8400 - 367ms/epoch - 367ms/step\n",
            "Epoch 35/200\n",
            "1/1 - 0s - loss: 0.1152 - acc: 0.9714 - val_loss: 0.6265 - val_acc: 0.8380 - 345ms/epoch - 345ms/step\n",
            "Epoch 36/200\n",
            "1/1 - 0s - loss: 0.1307 - acc: 0.9571 - val_loss: 0.6249 - val_acc: 0.8400 - 243ms/epoch - 243ms/step\n",
            "Epoch 37/200\n",
            "1/1 - 0s - loss: 0.0819 - acc: 0.9857 - val_loss: 0.6243 - val_acc: 0.8360 - 340ms/epoch - 340ms/step\n",
            "Epoch 38/200\n",
            "1/1 - 0s - loss: 0.0858 - acc: 0.9929 - val_loss: 0.6312 - val_acc: 0.8380 - 311ms/epoch - 311ms/step\n",
            "Epoch 39/200\n",
            "1/1 - 0s - loss: 0.1039 - acc: 0.9571 - val_loss: 0.6365 - val_acc: 0.8400 - 238ms/epoch - 238ms/step\n",
            "Epoch 40/200\n",
            "1/1 - 0s - loss: 0.1264 - acc: 0.9714 - val_loss: 0.6379 - val_acc: 0.8420 - 285ms/epoch - 285ms/step\n",
            "Epoch 41/200\n",
            "1/1 - 0s - loss: 0.0684 - acc: 0.9857 - val_loss: 0.6359 - val_acc: 0.8420 - 261ms/epoch - 261ms/step\n",
            "Epoch 42/200\n",
            "1/1 - 0s - loss: 0.0616 - acc: 0.9857 - val_loss: 0.6360 - val_acc: 0.8440 - 283ms/epoch - 283ms/step\n",
            "Epoch 43/200\n",
            "1/1 - 0s - loss: 0.0912 - acc: 0.9714 - val_loss: 0.6358 - val_acc: 0.8420 - 225ms/epoch - 225ms/step\n",
            "Epoch 44/200\n",
            "1/1 - 0s - loss: 0.0672 - acc: 0.9786 - val_loss: 0.6373 - val_acc: 0.8380 - 289ms/epoch - 289ms/step\n",
            "Epoch 45/200\n",
            "1/1 - 0s - loss: 0.0374 - acc: 0.9929 - val_loss: 0.6416 - val_acc: 0.8380 - 247ms/epoch - 247ms/step\n",
            "Epoch 46/200\n",
            "1/1 - 0s - loss: 0.0517 - acc: 0.9929 - val_loss: 0.6460 - val_acc: 0.8380 - 230ms/epoch - 230ms/step\n",
            "Epoch 47/200\n",
            "1/1 - 0s - loss: 0.0497 - acc: 0.9929 - val_loss: 0.6520 - val_acc: 0.8380 - 474ms/epoch - 474ms/step\n",
            "Epoch 48/200\n",
            "1/1 - 0s - loss: 0.0361 - acc: 0.9929 - val_loss: 0.6597 - val_acc: 0.8380 - 450ms/epoch - 450ms/step\n",
            "Epoch 49/200\n",
            "1/1 - 0s - loss: 0.0792 - acc: 0.9929 - val_loss: 0.6706 - val_acc: 0.8400 - 296ms/epoch - 296ms/step\n",
            "Epoch 50/200\n",
            "1/1 - 0s - loss: 0.0331 - acc: 1.0000 - val_loss: 0.6818 - val_acc: 0.8400 - 367ms/epoch - 367ms/step\n",
            "Epoch 51/200\n",
            "1/1 - 0s - loss: 0.0486 - acc: 0.9929 - val_loss: 0.6898 - val_acc: 0.8380 - 488ms/epoch - 488ms/step\n",
            "Epoch 52/200\n",
            "1/1 - 0s - loss: 0.0638 - acc: 0.9857 - val_loss: 0.6960 - val_acc: 0.8360 - 270ms/epoch - 270ms/step\n",
            "Epoch 53/200\n",
            "1/1 - 0s - loss: 0.0671 - acc: 0.9786 - val_loss: 0.6983 - val_acc: 0.8360 - 396ms/epoch - 396ms/step\n",
            "Epoch 54/200\n",
            "1/1 - 0s - loss: 0.0395 - acc: 0.9929 - val_loss: 0.7016 - val_acc: 0.8340 - 390ms/epoch - 390ms/step\n",
            "Epoch 55/200\n",
            "1/1 - 0s - loss: 0.0505 - acc: 0.9786 - val_loss: 0.7064 - val_acc: 0.8320 - 354ms/epoch - 354ms/step\n",
            "Epoch 56/200\n",
            "1/1 - 0s - loss: 0.0489 - acc: 0.9857 - val_loss: 0.7113 - val_acc: 0.8380 - 307ms/epoch - 307ms/step\n",
            "Epoch 57/200\n",
            "1/1 - 0s - loss: 0.0539 - acc: 0.9929 - val_loss: 0.7151 - val_acc: 0.8320 - 298ms/epoch - 298ms/step\n",
            "Epoch 58/200\n",
            "1/1 - 0s - loss: 0.0456 - acc: 0.9786 - val_loss: 0.7181 - val_acc: 0.8300 - 362ms/epoch - 362ms/step\n",
            "Epoch 59/200\n",
            "1/1 - 0s - loss: 0.0923 - acc: 0.9643 - val_loss: 0.7178 - val_acc: 0.8300 - 230ms/epoch - 230ms/step\n",
            "Epoch 60/200\n",
            "1/1 - 0s - loss: 0.0554 - acc: 0.9786 - val_loss: 0.7102 - val_acc: 0.8260 - 155ms/epoch - 155ms/step\n",
            "Epoch 61/200\n",
            "1/1 - 0s - loss: 0.0675 - acc: 0.9786 - val_loss: 0.7028 - val_acc: 0.8280 - 153ms/epoch - 153ms/step\n",
            "Epoch 62/200\n",
            "1/1 - 0s - loss: 0.0548 - acc: 0.9786 - val_loss: 0.6960 - val_acc: 0.8340 - 156ms/epoch - 156ms/step\n",
            "Epoch 63/200\n",
            "1/1 - 0s - loss: 0.0500 - acc: 0.9786 - val_loss: 0.6929 - val_acc: 0.8380 - 153ms/epoch - 153ms/step\n",
            "Epoch 64/200\n",
            "1/1 - 0s - loss: 0.0459 - acc: 0.9857 - val_loss: 0.6928 - val_acc: 0.8400 - 153ms/epoch - 153ms/step\n",
            "Epoch 65/200\n",
            "1/1 - 0s - loss: 0.0417 - acc: 0.9857 - val_loss: 0.6936 - val_acc: 0.8420 - 162ms/epoch - 162ms/step\n",
            "Epoch 66/200\n",
            "1/1 - 0s - loss: 0.0365 - acc: 0.9857 - val_loss: 0.6970 - val_acc: 0.8380 - 158ms/epoch - 158ms/step\n",
            "Epoch 67/200\n",
            "1/1 - 0s - loss: 0.0246 - acc: 1.0000 - val_loss: 0.7011 - val_acc: 0.8400 - 153ms/epoch - 153ms/step\n",
            "Epoch 68/200\n",
            "1/1 - 0s - loss: 0.0506 - acc: 0.9786 - val_loss: 0.7040 - val_acc: 0.8400 - 157ms/epoch - 157ms/step\n",
            "Epoch 69/200\n",
            "1/1 - 0s - loss: 0.0262 - acc: 0.9857 - val_loss: 0.7073 - val_acc: 0.8400 - 158ms/epoch - 158ms/step\n",
            "Epoch 70/200\n",
            "1/1 - 0s - loss: 0.0367 - acc: 0.9929 - val_loss: 0.7114 - val_acc: 0.8380 - 163ms/epoch - 163ms/step\n",
            "Epoch 71/200\n",
            "1/1 - 0s - loss: 0.0337 - acc: 0.9929 - val_loss: 0.7167 - val_acc: 0.8400 - 156ms/epoch - 156ms/step\n",
            "Epoch 72/200\n",
            "1/1 - 0s - loss: 0.0383 - acc: 0.9857 - val_loss: 0.7216 - val_acc: 0.8440 - 156ms/epoch - 156ms/step\n",
            "Epoch 73/200\n",
            "1/1 - 0s - loss: 0.0170 - acc: 1.0000 - val_loss: 0.7258 - val_acc: 0.8440 - 157ms/epoch - 157ms/step\n",
            "Epoch 74/200\n",
            "1/1 - 0s - loss: 0.0486 - acc: 0.9929 - val_loss: 0.7310 - val_acc: 0.8420 - 161ms/epoch - 161ms/step\n",
            "Epoch 75/200\n",
            "1/1 - 0s - loss: 0.0143 - acc: 1.0000 - val_loss: 0.7388 - val_acc: 0.8400 - 172ms/epoch - 172ms/step\n",
            "Epoch 76/200\n",
            "1/1 - 0s - loss: 0.0240 - acc: 0.9929 - val_loss: 0.7480 - val_acc: 0.8320 - 155ms/epoch - 155ms/step\n",
            "Epoch 77/200\n",
            "1/1 - 0s - loss: 0.0293 - acc: 1.0000 - val_loss: 0.7580 - val_acc: 0.8300 - 160ms/epoch - 160ms/step\n",
            "Epoch 78/200\n",
            "1/1 - 0s - loss: 0.0508 - acc: 0.9857 - val_loss: 0.7712 - val_acc: 0.8340 - 174ms/epoch - 174ms/step\n",
            "Epoch 79/200\n",
            "1/1 - 0s - loss: 0.0511 - acc: 0.9786 - val_loss: 0.7874 - val_acc: 0.8340 - 165ms/epoch - 165ms/step\n",
            "Epoch 80/200\n",
            "1/1 - 0s - loss: 0.0397 - acc: 0.9857 - val_loss: 0.8083 - val_acc: 0.8360 - 148ms/epoch - 148ms/step\n",
            "Epoch 81/200\n",
            "1/1 - 0s - loss: 0.0223 - acc: 0.9929 - val_loss: 0.8304 - val_acc: 0.8280 - 153ms/epoch - 153ms/step\n",
            "Epoch 82/200\n",
            "1/1 - 0s - loss: 0.0543 - acc: 0.9643 - val_loss: 0.8353 - val_acc: 0.8280 - 158ms/epoch - 158ms/step\n"
          ]
        }
      ],
      "source": [
        "history = model.fit(\n",
        "    train_gen,\n",
        "    epochs=200,\n",
        "    validation_data=val_gen,\n",
        "    verbose=2,\n",
        "    shuffle=False,  # this should be False, since shuffling data means shuffling the whole graph\n",
        "    callbacks=[es_callback],\n",
        ")"
      ]
    },
    {
      "cell_type": "code",
      "execution_count": null,
      "metadata": {
        "id": "xAPvTa2dkf5k",
        "outputId": "6cf19b7d-ce88-4a86-9114-1083c93db5e8",
        "colab": {
          "base_uri": "https://localhost:8080/",
          "height": 585
        }
      },
      "outputs": [
        {
          "output_type": "display_data",
          "data": {
            "text/plain": [
              "<Figure size 504x576 with 2 Axes>"
            ],
            "image/png": "[encoded data removed]"
          },
          "metadata": {
            "needs_background": "light"
          }
        }
      ],
      "source": [
        "sg.utils.plot_history(history)"
      ]
    },
    {
      "cell_type": "code",
      "execution_count": null,
      "metadata": {
        "id": "h5Mrf4gMkf5k"
      },
      "outputs": [],
      "source": [
        "test_gen = generator.flow(test_subjects.index, test_targets)"
      ]
    },
    {
      "cell_type": "code",
      "execution_count": null,
      "metadata": {
        "id": "krK5sUFfkf5k",
        "outputId": "516330bf-8c73-4e50-cdf3-84db1d7eff45",
        "colab": {
          "base_uri": "https://localhost:8080/"
        }
      },
      "outputs": [
        {
          "output_type": "stream",
          "name": "stdout",
          "text": [
            "1/1 [==============================] - 0s 65ms/step - loss: 0.6889 - acc: 0.8148\n",
            "\n",
            "Test Set Metrics:\n",
            "\tloss: 0.6889\n",
            "\tacc: 0.8148\n"
          ]
        }
      ],
      "source": [
        "test_metrics = model.evaluate(test_gen)\n",
        "print(\"\\nTest Set Metrics:\")\n",
        "for name, val in zip(model.metrics_names, test_metrics):\n",
        "    print(\"\\t{}: {:0.4f}\".format(name, val))"
      ]
    },
    {
      "cell_type": "markdown",
      "metadata": {
        "id": "BDXAw6v4kf5k"
      },
      "source": [
        "### Making predictions with the model"
      ]
    },
    {
      "cell_type": "markdown",
      "metadata": {
        "id": "l3llQwJnkf5l"
      },
      "source": [
        "Now let's get the predictions for all nodes. You're probably getting used to it by now, but we use our `FullBatchNodeGenerator` to create the input required and then use one of the model's methods: `predict` ([docs](https://www.tensorflow.org/api_docs/python/tf/keras/Model#predict)). This time we _don't_ provide the labels to `flow`, and instead just the nodes, because we're trying to predict these classes without knowing them."
      ]
    },
    {
      "cell_type": "code",
      "execution_count": null,
      "metadata": {
        "id": "RsctMFJ3kf5l",
        "colab": {
          "base_uri": "https://localhost:8080/"
        },
        "outputId": "3f8f0f57-f6aa-4f4e-8460-f9732dab4480"
      },
      "outputs": [
        {
          "output_type": "stream",
          "name": "stdout",
          "text": [
            "1/1 [==============================] - 0s 223ms/step\n"
          ]
        }
      ],
      "source": [
        "all_nodes = node_subjects.index\n",
        "all_gen = generator.flow(all_nodes)\n",
        "all_predictions = model.predict(all_gen)"
      ]
    },
    {
      "cell_type": "code",
      "execution_count": null,
      "metadata": {
        "id": "_kU8Zcnskf5l"
      },
      "outputs": [],
      "source": [
        "node_predictions = target_encoding.inverse_transform(all_predictions.squeeze())"
      ]
    },
    {
      "cell_type": "markdown",
      "metadata": {
        "id": "AIK7KHk1kf5l"
      },
      "source": [
        "Let's have a look at a few predictions after training the model:"
      ]
    },
    {
      "cell_type": "code",
      "execution_count": null,
      "metadata": {
        "id": "QgacftuYkf5l",
        "outputId": "2a1e0db1-c251-40f8-fa1d-dedb3ddaf1ad",
        "colab": {
          "base_uri": "https://localhost:8080/",
          "height": 677
        }
      },
      "outputs": [
        {
          "output_type": "execute_result",
          "data": {
            "text/plain": [
              "                      Predicted                    True\n",
              "31336           Neural_Networks         Neural_Networks\n",
              "1061127           Rule_Learning           Rule_Learning\n",
              "1106406  Reinforcement_Learning  Reinforcement_Learning\n",
              "13195    Reinforcement_Learning  Reinforcement_Learning\n",
              "37879     Probabilistic_Methods   Probabilistic_Methods\n",
              "1126012   Probabilistic_Methods   Probabilistic_Methods\n",
              "1107140  Reinforcement_Learning                  Theory\n",
              "1102850         Neural_Networks         Neural_Networks\n",
              "31349           Neural_Networks         Neural_Networks\n",
              "1106418                  Theory                  Theory\n",
              "1123188         Neural_Networks         Neural_Networks\n",
              "1128990         Neural_Networks      Genetic_Algorithms\n",
              "109323    Probabilistic_Methods   Probabilistic_Methods\n",
              "217139   Reinforcement_Learning              Case_Based\n",
              "31353           Neural_Networks         Neural_Networks\n",
              "32083           Neural_Networks         Neural_Networks\n",
              "1126029  Reinforcement_Learning  Reinforcement_Learning\n",
              "1118017         Neural_Networks         Neural_Networks\n",
              "49482           Neural_Networks         Neural_Networks\n",
              "753265          Neural_Networks         Neural_Networks"
            ],
            "text/html": [
              "\n",
              "  <div id=\"df-3f2bfe2b-4229-435d-a3de-6a4bc6c2133e\">\n",
              "    <div class=\"colab-df-container\">\n",
              "      <div>\n",
              "<style scoped>\n",
              "    .dataframe tbody tr th:only-of-type {\n",
              "        vertical-align: middle;\n",
              "    }\n",
              "\n",
              "    .dataframe tbody tr th {\n",
              "        vertical-align: top;\n",
              "    }\n",
              "\n",
              "    .dataframe thead th {\n",
              "        text-align: right;\n",
              "    }\n",
              "</style>\n",
              "<table border=\"1\" class=\"dataframe\">\n",
              "  <thead>\n",
              "    <tr style=\"text-align: right;\">\n",
              "      <th></th>\n",
              "      <th>Predicted</th>\n",
              "      <th>True</th>\n",
              "    </tr>\n",
              "  </thead>\n",
              "  <tbody>\n",
              "    <tr>\n",
              "      <th>31336</th>\n",
              "      <td>Neural_Networks</td>\n",
              "      <td>Neural_Networks</td>\n",
              "    </tr>\n",
              "    <tr>\n",
              "      <th>1061127</th>\n",
              "      <td>Rule_Learning</td>\n",
              "      <td>Rule_Learning</td>\n",
              "    </tr>\n",
              "    <tr>\n",
              "      <th>1106406</th>\n",
              "      <td>Reinforcement_Learning</td>\n",
              "      <td>Reinforcement_Learning</td>\n",
              "    </tr>\n",
              "    <tr>\n",
              "      <th>13195</th>\n",
              "      <td>Reinforcement_Learning</td>\n",
              "      <td>Reinforcement_Learning</td>\n",
              "    </tr>\n",
              "    <tr>\n",
              "      <th>37879</th>\n",
              "      <td>Probabilistic_Methods</td>\n",
              "      <td>Probabilistic_Methods</td>\n",
              "    </tr>\n",
              "    <tr>\n",
              "      <th>1126012</th>\n",
              "      <td>Probabilistic_Methods</td>\n",
              "      <td>Probabilistic_Methods</td>\n",
              "    </tr>\n",
              "    <tr>\n",
              "      <th>1107140</th>\n",
              "      <td>Reinforcement_Learning</td>\n",
              "      <td>Theory</td>\n",
              "    </tr>\n",
              "    <tr>\n",
              "      <th>1102850</th>\n",
              "      <td>Neural_Networks</td>\n",
              "      <td>Neural_Networks</td>\n",
              "    </tr>\n",
              "    <tr>\n",
              "      <th>31349</th>\n",
              "      <td>Neural_Networks</td>\n",
              "      <td>Neural_Networks</td>\n",
              "    </tr>\n",
              "    <tr>\n",
              "      <th>1106418</th>\n",
              "      <td>Theory</td>\n",
              "      <td>Theory</td>\n",
              "    </tr>\n",
              "    <tr>\n",
              "      <th>1123188</th>\n",
              "      <td>Neural_Networks</td>\n",
              "      <td>Neural_Networks</td>\n",
              "    </tr>\n",
              "    <tr>\n",
              "      <th>1128990</th>\n",
              "      <td>Neural_Networks</td>\n",
              "      <td>Genetic_Algorithms</td>\n",
              "    </tr>\n",
              "    <tr>\n",
              "      <th>109323</th>\n",
              "      <td>Probabilistic_Methods</td>\n",
              "      <td>Probabilistic_Methods</td>\n",
              "    </tr>\n",
              "    <tr>\n",
              "      <th>217139</th>\n",
              "      <td>Reinforcement_Learning</td>\n",
              "      <td>Case_Based</td>\n",
              "    </tr>\n",
              "    <tr>\n",
              "      <th>31353</th>\n",
              "      <td>Neural_Networks</td>\n",
              "      <td>Neural_Networks</td>\n",
              "    </tr>\n",
              "    <tr>\n",
              "      <th>32083</th>\n",
              "      <td>Neural_Networks</td>\n",
              "      <td>Neural_Networks</td>\n",
              "    </tr>\n",
              "    <tr>\n",
              "      <th>1126029</th>\n",
              "      <td>Reinforcement_Learning</td>\n",
              "      <td>Reinforcement_Learning</td>\n",
              "    </tr>\n",
              "    <tr>\n",
              "      <th>1118017</th>\n",
              "      <td>Neural_Networks</td>\n",
              "      <td>Neural_Networks</td>\n",
              "    </tr>\n",
              "    <tr>\n",
              "      <th>49482</th>\n",
              "      <td>Neural_Networks</td>\n",
              "      <td>Neural_Networks</td>\n",
              "    </tr>\n",
              "    <tr>\n",
              "      <th>753265</th>\n",
              "      <td>Neural_Networks</td>\n",
              "      <td>Neural_Networks</td>\n",
              "    </tr>\n",
              "  </tbody>\n",
              "</table>\n",
              "</div>\n",
              "      <button class=\"colab-df-convert\" onclick=\"convertToInteractive('df-3f2bfe2b-4229-435d-a3de-6a4bc6c2133e')\"\n",
              "              title=\"Convert this dataframe to an interactive table.\"\n",
              "              style=\"display:none;\">\n",
              "        \n",
              "  <svg xmlns=\"http://www.w3.org/2000/svg\" height=\"24px\"viewBox=\"0 0 24 24\"\n",
              "       width=\"24px\">\n",
              "    <path d=\"M0 0h24v24H0V0z\" fill=\"none\"/>\n",
              "    <path d=\"M18.56 5.44l.94 2.06.94-2.06 2.06-.94-2.06-.94-.94-2.06-.94 2.06-2.06.94zm-11 1L8.5 8.5l.94-2.06 2.06-.94-2.06-.94L8.5 2.5l-.94 2.06-2.06.94zm10 10l.94 2.06.94-2.06 2.06-.94-2.06-.94-.94-2.06-.94 2.06-2.06.94z\"/><path d=\"M17.41 7.96l-1.37-1.37c-.4-.4-.92-.59-1.43-.59-.52 0-1.04.2-1.43.59L10.3 9.45l-7.72 7.72c-.78.78-.78 2.05 0 2.83L4 21.41c.39.39.9.59 1.41.59.51 0 1.02-.2 1.41-.59l7.78-7.78 2.81-2.81c.8-.78.8-2.07 0-2.86zM5.41 20L4 18.59l7.72-7.72 1.47 1.35L5.41 20z\"/>\n",
              "  </svg>\n",
              "      </button>\n",
              "      \n",
              "  <style>\n",
              "    .colab-df-container {\n",
              "      display:flex;\n",
              "      flex-wrap:wrap;\n",
              "      gap: 12px;\n",
              "    }\n",
              "\n",
              "    .colab-df-convert {\n",
              "      background-color: #E8F0FE;\n",
              "      border: none;\n",
              "      border-radius: 50%;\n",
              "      cursor: pointer;\n",
              "      display: none;\n",
              "      fill: #1967D2;\n",
              "      height: 32px;\n",
              "      padding: 0 0 0 0;\n",
              "      width: 32px;\n",
              "    }\n",
              "\n",
              "    .colab-df-convert:hover {\n",
              "      background-color: #E2EBFA;\n",
              "      box-shadow: 0px 1px 2px rgba(60, 64, 67, 0.3), 0px 1px 3px 1px rgba(60, 64, 67, 0.15);\n",
              "      fill: #174EA6;\n",
              "    }\n",
              "\n",
              "    [theme=dark] .colab-df-convert {\n",
              "      background-color: #3B4455;\n",
              "      fill: #D2E3FC;\n",
              "    }\n",
              "\n",
              "    [theme=dark] .colab-df-convert:hover {\n",
              "      background-color: #434B5C;\n",
              "      box-shadow: 0px 1px 3px 1px rgba(0, 0, 0, 0.15);\n",
              "      filter: drop-shadow(0px 1px 2px rgba(0, 0, 0, 0.3));\n",
              "      fill: #FFFFFF;\n",
              "    }\n",
              "  </style>\n",
              "\n",
              "      <script>\n",
              "        const buttonEl =\n",
              "          document.querySelector('#df-3f2bfe2b-4229-435d-a3de-6a4bc6c2133e button.colab-df-convert');\n",
              "        buttonEl.style.display =\n",
              "          google.colab.kernel.accessAllowed ? 'block' : 'none';\n",
              "\n",
              "        async function convertToInteractive(key) {\n",
              "          const element = document.querySelector('#df-3f2bfe2b-4229-435d-a3de-6a4bc6c2133e');\n",
              "          const dataTable =\n",
              "            await google.colab.kernel.invokeFunction('convertToInteractive',\n",
              "                                                     [key], {});\n",
              "          if (!dataTable) return;\n",
              "\n",
              "          const docLinkHtml = 'Like what you see? Visit the ' +\n",
              "            '<a target=\"_blank\" href=https://colab.research.google.com/notebooks/data_table.ipynb>data table notebook</a>'\n",
              "            + ' to learn more about interactive tables.';\n",
              "          element.innerHTML = '';\n",
              "          dataTable['output_type'] = 'display_data';\n",
              "          await google.colab.output.renderOutput(dataTable, element);\n",
              "          const docLink = document.createElement('div');\n",
              "          docLink.innerHTML = docLinkHtml;\n",
              "          element.appendChild(docLink);\n",
              "        }\n",
              "      </script>\n",
              "    </div>\n",
              "  </div>\n",
              "  "
            ]
          },
          "metadata": {},
          "execution_count": 24
        }
      ],
      "source": [
        "df = pd.DataFrame({\"Predicted\": node_predictions, \"True\": node_subjects})\n",
        "df.head(20)"
      ]
    },
    {
      "cell_type": "code",
      "execution_count": null,
      "metadata": {
        "id": "UR9cDrtSkf5l"
      },
      "outputs": [],
      "source": [
        "embedding_model = Model(inputs=x_inp, outputs=x_out)"
      ]
    },
    {
      "cell_type": "code",
      "execution_count": null,
      "metadata": {
        "id": "LV5iJ1JLkf5l",
        "outputId": "705ada4d-898d-4c10-9680-5ee3ff93dede",
        "colab": {
          "base_uri": "https://localhost:8080/"
        }
      },
      "outputs": [
        {
          "output_type": "stream",
          "name": "stdout",
          "text": [
            "1/1 [==============================] - 0s 144ms/step\n"
          ]
        },
        {
          "output_type": "execute_result",
          "data": {
            "text/plain": [
              "(1, 2708, 16)"
            ]
          },
          "metadata": {},
          "execution_count": 26
        }
      ],
      "source": [
        "emb = embedding_model.predict(all_gen)\n",
        "emb.shape"
      ]
    },
    {
      "cell_type": "markdown",
      "metadata": {
        "id": "-YZ0kKQAkf5l"
      },
      "source": [
        "The last GCN layer had output dimension 16, meaning each embedding consists of 16 numbers. Plotting this directly would require a 16 dimensional plot, which is hard for humans to visualise. Instead, we can first project these vectors down to just 2 numbers, making vectors of dimension 2 that can be plotted on a normal 2D scatter plot.\n"
      ]
    },
    {
      "cell_type": "code",
      "execution_count": null,
      "metadata": {
        "id": "2Tj35XMkkf5l"
      },
      "outputs": [],
      "source": [
        "from sklearn.decomposition import PCA\n",
        "from sklearn.manifold import TSNE\n",
        "\n",
        "transform = TSNE  # or PCA"
      ]
    },
    {
      "cell_type": "code",
      "execution_count": null,
      "metadata": {
        "id": "r1VaNXCekf5l",
        "outputId": "e35befa3-2d71-4ad5-a51d-93d50243a037",
        "colab": {
          "base_uri": "https://localhost:8080/"
        }
      },
      "outputs": [
        {
          "output_type": "execute_result",
          "data": {
            "text/plain": [
              "(2708, 16)"
            ]
          },
          "metadata": {},
          "execution_count": 28
        }
      ],
      "source": [
        "X = emb.squeeze(0)\n",
        "X.shape"
      ]
    },
    {
      "cell_type": "code",
      "execution_count": null,
      "metadata": {
        "id": "rWXHvDKGkf5l",
        "outputId": "05024f2a-20fc-448d-d286-847629059d1d",
        "colab": {
          "base_uri": "https://localhost:8080/"
        }
      },
      "outputs": [
        {
          "output_type": "stream",
          "name": "stderr",
          "text": [
            "/usr/local/lib/python3.7/dist-packages/sklearn/manifold/_t_sne.py:783: FutureWarning: The default initialization in TSNE will change from 'random' to 'pca' in 1.2.\n",
            "  FutureWarning,\n",
            "/usr/local/lib/python3.7/dist-packages/sklearn/manifold/_t_sne.py:793: FutureWarning: The default learning rate in TSNE will change from 200.0 to 'auto' in 1.2.\n",
            "  FutureWarning,\n"
          ]
        },
        {
          "output_type": "execute_result",
          "data": {
            "text/plain": [
              "(2708, 2)"
            ]
          },
          "metadata": {},
          "execution_count": 29
        }
      ],
      "source": [
        "trans = transform(n_components=2)\n",
        "X_reduced = trans.fit_transform(X)\n",
        "X_reduced.shape"
      ]
    },
    {
      "cell_type": "code",
      "execution_count": null,
      "metadata": {
        "id": "wUK5nYPEkf5m",
        "outputId": "4a310a1a-2fe0-47c6-f004-26d2f362645d",
        "colab": {
          "base_uri": "https://localhost:8080/",
          "height": 418
        }
      },
      "outputs": [
        {
          "output_type": "execute_result",
          "data": {
            "text/plain": [
              "[Text(0, 0.5, '$X_2$'),\n",
              " Text(0.5, 0, '$X_1$'),\n",
              " Text(0.5, 1.0, 'TSNE visualization of GCN embeddings for cora dataset'),\n",
              " None]"
            ]
          },
          "metadata": {},
          "execution_count": 30
        },
        {
          "output_type": "display_data",
          "data": {
            "text/plain": [
              "<Figure size 504x504 with 1 Axes>"
            ],
            "image/png": "[encoded data removed]"
          },
          "metadata": {
            "needs_background": "light"
          }
        }
      ],
      "source": [
        "fig, ax = plt.subplots(figsize=(7, 7))\n",
        "ax.scatter(\n",
        "    X_reduced[:, 0],\n",
        "    X_reduced[:, 1],\n",
        "    c=node_subjects.astype(\"category\").cat.codes,\n",
        "    cmap=\"jet\",\n",
        "    alpha=0.7,\n",
        ")\n",
        "ax.set(\n",
        "    aspect=\"equal\",\n",
        "    xlabel=\"$X_1$\",\n",
        "    ylabel=\"$X_2$\",\n",
        "    title=f\"{transform.__name__} visualization of GCN embeddings for cora dataset\",\n",
        ")"
      ]
    },
    {
      "cell_type": "markdown",
      "metadata": {
        "id": "agfBPTzzkf5m"
      },
      "source": [
        "## Conclusion\n",
        "\n",
        "This notebook uses the GCN algorithm to predict the class of nodes. Specifically, the subject of an academic paper in the Cora dataset.\n",
        "\n",
        "- the graph structure of the dataset, in the form of citation links between papers\n",
        "- the 1433-dimensional feature vectors associated with each paper\n",
        "\n",
        "Once the model is trained for prediction:\n",
        "\n",
        "- predict the classes of nodes\n",
        "- use the model's weights to compute vector embeddings for nodes"
      ]
    }
  ]
}